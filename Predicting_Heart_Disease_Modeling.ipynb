{
  "nbformat": 4,
  "nbformat_minor": 0,
  "metadata": {
    "colab": {
      "name": "Predicting_Heart_Disease_Modeling.ipynb",
      "provenance": [],
      "collapsed_sections": [],
      "mount_file_id": "1RywTGpGm6Onli2ZgfPbPKpz3E5quS94z",
      "authorship_tag": "ABX9TyPv3VmsBXzpbHbrU47eLAv7",
      "include_colab_link": true
    },
    "kernelspec": {
      "name": "python3",
      "display_name": "Python 3"
    },
    "language_info": {
      "name": "python"
    }
  },
  "cells": [
    {
      "cell_type": "markdown",
      "metadata": {
        "id": "view-in-github",
        "colab_type": "text"
      },
      "source": [
        "<a href=\"https://colab.research.google.com/github/JFaberSFSD/Healthcare_Predictions/blob/main/Predicting_Heart_Disease_Modeling.ipynb\" target=\"_parent\"><img src=\"https://colab.research.google.com/assets/colab-badge.svg\" alt=\"Open In Colab\"/></a>"
      ]
    },
    {
      "cell_type": "markdown",
      "source": [
        "#First thing first, let's grab our needed imports for our classification problem!"
      ],
      "metadata": {
        "id": "T1U3sAJ589ot"
      }
    },
    {
      "cell_type": "code",
      "execution_count": 43,
      "metadata": {
        "id": "Hrxq8XTeklzc"
      },
      "outputs": [],
      "source": [
        "import pandas as pd\n",
        "import numpy as np\n",
        "import matplotlib.pyplot as plt\n",
        "import seaborn as sns\n",
        "from sklearn.model_selection import train_test_split, GridSearchCV\n",
        "from sklearn.pipeline import make_pipeline\n",
        "from sklearn.preprocessing import StandardScaler, OneHotEncoder\n",
        "from sklearn.compose import make_column_transformer, make_column_selector\n",
        "from sklearn.linear_model import LogisticRegression\n",
        "from sklearn.neighbors import KNeighborsClassifier\n",
        "from sklearn.ensemble import RandomForestClassifier\n",
        "from sklearn.metrics import confusion_matrix, ConfusionMatrixDisplay, classification_report\n",
        "from sklearn.decomposition import PCA\n",
        "from sklearn.ensemble import GradientBoostingClassifier\n",
        "from lightgbm import LGBMClassifier\n",
        "from xgboost import XGBClassifier\n",
        "from sklearn import set_config\n",
        "set_config(display='diagram')"
      ]
    },
    {
      "cell_type": "markdown",
      "source": [
        "#Now let's load our data"
      ],
      "metadata": {
        "id": "3RUZcyDq9GPn"
      }
    },
    {
      "cell_type": "code",
      "source": [
        "df = pd.read_csv('/content/drive/MyDrive/07 - Week 7 (August 1st)/heart.csv')\n",
        "\n",
        "df.head()"
      ],
      "metadata": {
        "colab": {
          "base_uri": "https://localhost:8080/",
          "height": 206
        },
        "id": "dFbqlVgXkraD",
        "outputId": "23fa9c3f-d17d-47d8-defd-940a40b444c2"
      },
      "execution_count": 3,
      "outputs": [
        {
          "output_type": "execute_result",
          "data": {
            "text/plain": [
              "   Age Sex ChestPainType  RestingBP  Cholesterol  FastingBS RestingECG  MaxHR  \\\n",
              "0   40   M           ATA        140          289          0     Normal    172   \n",
              "1   49   F           NAP        160          180          0     Normal    156   \n",
              "2   37   M           ATA        130          283          0         ST     98   \n",
              "3   48   F           ASY        138          214          0     Normal    108   \n",
              "4   54   M           NAP        150          195          0     Normal    122   \n",
              "\n",
              "  ExerciseAngina  Oldpeak ST_Slope  HeartDisease  \n",
              "0              N      0.0       Up             0  \n",
              "1              N      1.0     Flat             1  \n",
              "2              N      0.0       Up             0  \n",
              "3              Y      1.5     Flat             1  \n",
              "4              N      0.0       Up             0  "
            ],
            "text/html": [
              "\n",
              "  <div id=\"df-a0f4d2b0-5d9c-4a49-aeb8-fa2e67ee7558\">\n",
              "    <div class=\"colab-df-container\">\n",
              "      <div>\n",
              "<style scoped>\n",
              "    .dataframe tbody tr th:only-of-type {\n",
              "        vertical-align: middle;\n",
              "    }\n",
              "\n",
              "    .dataframe tbody tr th {\n",
              "        vertical-align: top;\n",
              "    }\n",
              "\n",
              "    .dataframe thead th {\n",
              "        text-align: right;\n",
              "    }\n",
              "</style>\n",
              "<table border=\"1\" class=\"dataframe\">\n",
              "  <thead>\n",
              "    <tr style=\"text-align: right;\">\n",
              "      <th></th>\n",
              "      <th>Age</th>\n",
              "      <th>Sex</th>\n",
              "      <th>ChestPainType</th>\n",
              "      <th>RestingBP</th>\n",
              "      <th>Cholesterol</th>\n",
              "      <th>FastingBS</th>\n",
              "      <th>RestingECG</th>\n",
              "      <th>MaxHR</th>\n",
              "      <th>ExerciseAngina</th>\n",
              "      <th>Oldpeak</th>\n",
              "      <th>ST_Slope</th>\n",
              "      <th>HeartDisease</th>\n",
              "    </tr>\n",
              "  </thead>\n",
              "  <tbody>\n",
              "    <tr>\n",
              "      <th>0</th>\n",
              "      <td>40</td>\n",
              "      <td>M</td>\n",
              "      <td>ATA</td>\n",
              "      <td>140</td>\n",
              "      <td>289</td>\n",
              "      <td>0</td>\n",
              "      <td>Normal</td>\n",
              "      <td>172</td>\n",
              "      <td>N</td>\n",
              "      <td>0.0</td>\n",
              "      <td>Up</td>\n",
              "      <td>0</td>\n",
              "    </tr>\n",
              "    <tr>\n",
              "      <th>1</th>\n",
              "      <td>49</td>\n",
              "      <td>F</td>\n",
              "      <td>NAP</td>\n",
              "      <td>160</td>\n",
              "      <td>180</td>\n",
              "      <td>0</td>\n",
              "      <td>Normal</td>\n",
              "      <td>156</td>\n",
              "      <td>N</td>\n",
              "      <td>1.0</td>\n",
              "      <td>Flat</td>\n",
              "      <td>1</td>\n",
              "    </tr>\n",
              "    <tr>\n",
              "      <th>2</th>\n",
              "      <td>37</td>\n",
              "      <td>M</td>\n",
              "      <td>ATA</td>\n",
              "      <td>130</td>\n",
              "      <td>283</td>\n",
              "      <td>0</td>\n",
              "      <td>ST</td>\n",
              "      <td>98</td>\n",
              "      <td>N</td>\n",
              "      <td>0.0</td>\n",
              "      <td>Up</td>\n",
              "      <td>0</td>\n",
              "    </tr>\n",
              "    <tr>\n",
              "      <th>3</th>\n",
              "      <td>48</td>\n",
              "      <td>F</td>\n",
              "      <td>ASY</td>\n",
              "      <td>138</td>\n",
              "      <td>214</td>\n",
              "      <td>0</td>\n",
              "      <td>Normal</td>\n",
              "      <td>108</td>\n",
              "      <td>Y</td>\n",
              "      <td>1.5</td>\n",
              "      <td>Flat</td>\n",
              "      <td>1</td>\n",
              "    </tr>\n",
              "    <tr>\n",
              "      <th>4</th>\n",
              "      <td>54</td>\n",
              "      <td>M</td>\n",
              "      <td>NAP</td>\n",
              "      <td>150</td>\n",
              "      <td>195</td>\n",
              "      <td>0</td>\n",
              "      <td>Normal</td>\n",
              "      <td>122</td>\n",
              "      <td>N</td>\n",
              "      <td>0.0</td>\n",
              "      <td>Up</td>\n",
              "      <td>0</td>\n",
              "    </tr>\n",
              "  </tbody>\n",
              "</table>\n",
              "</div>\n",
              "      <button class=\"colab-df-convert\" onclick=\"convertToInteractive('df-a0f4d2b0-5d9c-4a49-aeb8-fa2e67ee7558')\"\n",
              "              title=\"Convert this dataframe to an interactive table.\"\n",
              "              style=\"display:none;\">\n",
              "        \n",
              "  <svg xmlns=\"http://www.w3.org/2000/svg\" height=\"24px\"viewBox=\"0 0 24 24\"\n",
              "       width=\"24px\">\n",
              "    <path d=\"M0 0h24v24H0V0z\" fill=\"none\"/>\n",
              "    <path d=\"M18.56 5.44l.94 2.06.94-2.06 2.06-.94-2.06-.94-.94-2.06-.94 2.06-2.06.94zm-11 1L8.5 8.5l.94-2.06 2.06-.94-2.06-.94L8.5 2.5l-.94 2.06-2.06.94zm10 10l.94 2.06.94-2.06 2.06-.94-2.06-.94-.94-2.06-.94 2.06-2.06.94z\"/><path d=\"M17.41 7.96l-1.37-1.37c-.4-.4-.92-.59-1.43-.59-.52 0-1.04.2-1.43.59L10.3 9.45l-7.72 7.72c-.78.78-.78 2.05 0 2.83L4 21.41c.39.39.9.59 1.41.59.51 0 1.02-.2 1.41-.59l7.78-7.78 2.81-2.81c.8-.78.8-2.07 0-2.86zM5.41 20L4 18.59l7.72-7.72 1.47 1.35L5.41 20z\"/>\n",
              "  </svg>\n",
              "      </button>\n",
              "      \n",
              "  <style>\n",
              "    .colab-df-container {\n",
              "      display:flex;\n",
              "      flex-wrap:wrap;\n",
              "      gap: 12px;\n",
              "    }\n",
              "\n",
              "    .colab-df-convert {\n",
              "      background-color: #E8F0FE;\n",
              "      border: none;\n",
              "      border-radius: 50%;\n",
              "      cursor: pointer;\n",
              "      display: none;\n",
              "      fill: #1967D2;\n",
              "      height: 32px;\n",
              "      padding: 0 0 0 0;\n",
              "      width: 32px;\n",
              "    }\n",
              "\n",
              "    .colab-df-convert:hover {\n",
              "      background-color: #E2EBFA;\n",
              "      box-shadow: 0px 1px 2px rgba(60, 64, 67, 0.3), 0px 1px 3px 1px rgba(60, 64, 67, 0.15);\n",
              "      fill: #174EA6;\n",
              "    }\n",
              "\n",
              "    [theme=dark] .colab-df-convert {\n",
              "      background-color: #3B4455;\n",
              "      fill: #D2E3FC;\n",
              "    }\n",
              "\n",
              "    [theme=dark] .colab-df-convert:hover {\n",
              "      background-color: #434B5C;\n",
              "      box-shadow: 0px 1px 3px 1px rgba(0, 0, 0, 0.15);\n",
              "      filter: drop-shadow(0px 1px 2px rgba(0, 0, 0, 0.3));\n",
              "      fill: #FFFFFF;\n",
              "    }\n",
              "  </style>\n",
              "\n",
              "      <script>\n",
              "        const buttonEl =\n",
              "          document.querySelector('#df-a0f4d2b0-5d9c-4a49-aeb8-fa2e67ee7558 button.colab-df-convert');\n",
              "        buttonEl.style.display =\n",
              "          google.colab.kernel.accessAllowed ? 'block' : 'none';\n",
              "\n",
              "        async function convertToInteractive(key) {\n",
              "          const element = document.querySelector('#df-a0f4d2b0-5d9c-4a49-aeb8-fa2e67ee7558');\n",
              "          const dataTable =\n",
              "            await google.colab.kernel.invokeFunction('convertToInteractive',\n",
              "                                                     [key], {});\n",
              "          if (!dataTable) return;\n",
              "\n",
              "          const docLinkHtml = 'Like what you see? Visit the ' +\n",
              "            '<a target=\"_blank\" href=https://colab.research.google.com/notebooks/data_table.ipynb>data table notebook</a>'\n",
              "            + ' to learn more about interactive tables.';\n",
              "          element.innerHTML = '';\n",
              "          dataTable['output_type'] = 'display_data';\n",
              "          await google.colab.output.renderOutput(dataTable, element);\n",
              "          const docLink = document.createElement('div');\n",
              "          docLink.innerHTML = docLinkHtml;\n",
              "          element.appendChild(docLink);\n",
              "        }\n",
              "      </script>\n",
              "    </div>\n",
              "  </div>\n",
              "  "
            ]
          },
          "metadata": {},
          "execution_count": 3
        }
      ]
    },
    {
      "cell_type": "markdown",
      "source": [
        "#From our exploratory data analysis, we learned a few things about our features that required some cleaning, let's run through those quick to get our data ready for modeling"
      ],
      "metadata": {
        "id": "lQYXbQXi9QZV"
      }
    },
    {
      "cell_type": "code",
      "source": [
        "#Eliminate zero from 'RestingBP' as obviously zero isn't possible (there is only one row, so we will simply drop it)\n",
        "df['RestingBP'] = df['RestingBP'].replace(0,np.nan)\n",
        "df = df.dropna(subset=['RestingBP'])\n",
        "df['RestingBP'].isna().sum()"
      ],
      "metadata": {
        "colab": {
          "base_uri": "https://localhost:8080/"
        },
        "id": "cssblzBskz0k",
        "outputId": "a82f8939-9bc9-4de6-adb6-d94647e7d8d6"
      },
      "execution_count": 4,
      "outputs": [
        {
          "output_type": "execute_result",
          "data": {
            "text/plain": [
              "0"
            ]
          },
          "metadata": {},
          "execution_count": 4
        }
      ]
    },
    {
      "cell_type": "code",
      "source": [
        "#Change 'ExerciseAngina' to numeric: 0 for No and 1 for Yes\n",
        "df['ExerciseAngina'] = df['ExerciseAngina'].replace({'N':0,'Y':1})\n",
        "df['ExerciseAngina'].value_counts()"
      ],
      "metadata": {
        "colab": {
          "base_uri": "https://localhost:8080/"
        },
        "id": "y9Bo3R3z-QXK",
        "outputId": "0009a72c-8222-4a6a-9830-7cc8950d99fe"
      },
      "execution_count": 5,
      "outputs": [
        {
          "output_type": "stream",
          "name": "stderr",
          "text": [
            "/usr/local/lib/python3.7/dist-packages/ipykernel_launcher.py:2: SettingWithCopyWarning: \n",
            "A value is trying to be set on a copy of a slice from a DataFrame.\n",
            "Try using .loc[row_indexer,col_indexer] = value instead\n",
            "\n",
            "See the caveats in the documentation: https://pandas.pydata.org/pandas-docs/stable/user_guide/indexing.html#returning-a-view-versus-a-copy\n",
            "  \n"
          ]
        },
        {
          "output_type": "execute_result",
          "data": {
            "text/plain": [
              "0    546\n",
              "1    371\n",
              "Name: ExerciseAngina, dtype: int64"
            ]
          },
          "metadata": {},
          "execution_count": 5
        }
      ]
    },
    {
      "cell_type": "markdown",
      "source": [
        "#One last double-check for any duplicates"
      ],
      "metadata": {
        "id": "V2xElbp0yyW3"
      }
    },
    {
      "cell_type": "code",
      "source": [
        "df.duplicated().sum()"
      ],
      "metadata": {
        "colab": {
          "base_uri": "https://localhost:8080/"
        },
        "id": "MTzrfBxtk2MQ",
        "outputId": "37349695-5891-4e25-e135-ba4a7dea63cc"
      },
      "execution_count": 6,
      "outputs": [
        {
          "output_type": "execute_result",
          "data": {
            "text/plain": [
              "0"
            ]
          },
          "metadata": {},
          "execution_count": 6
        }
      ]
    },
    {
      "cell_type": "markdown",
      "source": [
        "#One last double-check for any missing values"
      ],
      "metadata": {
        "id": "PkqnOJk2y4Mi"
      }
    },
    {
      "cell_type": "code",
      "source": [
        "df.isna().sum()"
      ],
      "metadata": {
        "id": "Q1iBSpqfmA0F",
        "colab": {
          "base_uri": "https://localhost:8080/"
        },
        "outputId": "89676776-1fed-45be-efd5-b27b3be90e29"
      },
      "execution_count": 7,
      "outputs": [
        {
          "output_type": "execute_result",
          "data": {
            "text/plain": [
              "Age               0\n",
              "Sex               0\n",
              "ChestPainType     0\n",
              "RestingBP         0\n",
              "Cholesterol       0\n",
              "FastingBS         0\n",
              "RestingECG        0\n",
              "MaxHR             0\n",
              "ExerciseAngina    0\n",
              "Oldpeak           0\n",
              "ST_Slope          0\n",
              "HeartDisease      0\n",
              "dtype: int64"
            ]
          },
          "metadata": {},
          "execution_count": 7
        }
      ]
    },
    {
      "cell_type": "code",
      "source": [
        "df.info()"
      ],
      "metadata": {
        "colab": {
          "base_uri": "https://localhost:8080/"
        },
        "id": "boTyLNGs_T0I",
        "outputId": "5e5a6cd8-feae-46b5-fbac-bc7799bc5124"
      },
      "execution_count": 8,
      "outputs": [
        {
          "output_type": "stream",
          "name": "stdout",
          "text": [
            "<class 'pandas.core.frame.DataFrame'>\n",
            "Int64Index: 917 entries, 0 to 917\n",
            "Data columns (total 12 columns):\n",
            " #   Column          Non-Null Count  Dtype  \n",
            "---  ------          --------------  -----  \n",
            " 0   Age             917 non-null    int64  \n",
            " 1   Sex             917 non-null    object \n",
            " 2   ChestPainType   917 non-null    object \n",
            " 3   RestingBP       917 non-null    float64\n",
            " 4   Cholesterol     917 non-null    int64  \n",
            " 5   FastingBS       917 non-null    int64  \n",
            " 6   RestingECG      917 non-null    object \n",
            " 7   MaxHR           917 non-null    int64  \n",
            " 8   ExerciseAngina  917 non-null    int64  \n",
            " 9   Oldpeak         917 non-null    float64\n",
            " 10  ST_Slope        917 non-null    object \n",
            " 11  HeartDisease    917 non-null    int64  \n",
            "dtypes: float64(2), int64(6), object(4)\n",
            "memory usage: 93.1+ KB\n"
          ]
        }
      ]
    },
    {
      "cell_type": "markdown",
      "source": [
        "#Now that we have our data prepared, let's get to the fun part! The first step toward creating our models and tuning them is to do a train/test split to avoid any data leakage"
      ],
      "metadata": {
        "id": "mDjhu4--_nB3"
      }
    },
    {
      "cell_type": "code",
      "source": [
        "X = df.drop(columns='HeartDisease')  \n",
        "y = df['HeartDisease']\n",
        " \n",
        "X_train, X_test, y_train, y_test = train_test_split(X, y, random_state=42)"
      ],
      "metadata": {
        "id": "Uch7fIM0_UZZ"
      },
      "execution_count": 9,
      "outputs": []
    },
    {
      "cell_type": "markdown",
      "source": [
        "#We are going to try three different base models today, for our classification problem, so let's create instances of each.\n",
        "\n",
        "#We will also need to scale our numerical data and encode our categorical data, so we will need both a scaler and one-hot-encoder"
      ],
      "metadata": {
        "id": "9Iv9ccQ3_8Xz"
      }
    },
    {
      "cell_type": "code",
      "source": [
        "log_reg = LogisticRegression()\n",
        "knn = KNeighborsClassifier()\n",
        "rf = RandomForestClassifier(random_state = 42)\n",
        "\n",
        "scaler = StandardScaler()\n",
        "ohe = OneHotEncoder(handle_unknown='ignore', sparse=False)"
      ],
      "metadata": {
        "id": "JBzsVUas_1VQ"
      },
      "execution_count": 10,
      "outputs": []
    },
    {
      "cell_type": "markdown",
      "source": [
        "#Now let's create a preprocessing pipeline for our data, that will both scale our numerical data, and ohe our categorical data. Since our data does not contain any missing values, we do not have to instantiate an imputer of any kind."
      ],
      "metadata": {
        "id": "f5kedioOAhGY"
      }
    },
    {
      "cell_type": "code",
      "source": [
        "#Let's create our column selectors for our different dytpes\n",
        "cat_selector = make_column_selector(dtype_include='object')\n",
        "num_selector = make_column_selector(dtype_include='number')\n",
        "\n",
        "#Each of our different dtypes will have to follow a different pipeline, so let's create one for each\n",
        "numeric_pipe = make_pipeline(scaler)\n",
        "categorical_pipe = make_pipeline(ohe)\n",
        "\n",
        "#We will need a tuple, with our different piplines, to feed into our column transformer, let's make one for each dtypes now\n",
        "number_tuple = (numeric_pipe, num_selector)\n",
        "category_tuple = (categorical_pipe, cat_selector)\n",
        "\n",
        "#Finally we can create our preprocessor with both pipelines in it\n",
        "preprocessor = make_column_transformer(number_tuple, category_tuple)"
      ],
      "metadata": {
        "id": "sWmAx6CtAJjg"
      },
      "execution_count": 11,
      "outputs": []
    },
    {
      "cell_type": "markdown",
      "source": [
        "#With our preprocessor now ready to rock, let's start with our first model. We will just start at the top of our list with a logistic regression model with default parameters"
      ],
      "metadata": {
        "id": "SQKD_dn0CgYi"
      }
    },
    {
      "cell_type": "code",
      "source": [
        "log_pipe = make_pipeline(preprocessor, log_reg)\n",
        "\n",
        "log_pipe.fit(X_train, y_train)\n",
        "\n",
        "#Let's check default parameter scores\n",
        "print(log_pipe.score(X_train, y_train))\n",
        "print(log_pipe.score(X_test, y_test))"
      ],
      "metadata": {
        "colab": {
          "base_uri": "https://localhost:8080/"
        },
        "id": "b_Mm3vL6Bbm4",
        "outputId": "c33fb51f-357b-4ef2-b979-a6c806bc0245"
      },
      "execution_count": 12,
      "outputs": [
        {
          "output_type": "stream",
          "name": "stdout",
          "text": [
            "0.8617176128093159\n",
            "0.8869565217391304\n"
          ]
        }
      ]
    },
    {
      "cell_type": "markdown",
      "source": [
        "#Just under 89%! Not bad at all. Let's see if we can further improve this by tuning some hyper-parameters. Let's create a for-loop to run through different C-values. We will start with L1, and then test L2 after that"
      ],
      "metadata": {
        "id": "TrJ5laB4C-n5"
      }
    },
    {
      "cell_type": "code",
      "source": [
        "c_values = [0.0001, 0.001, 0.01, 0.1, 1, 10, 100, 1000]\n",
        "train_scores = []\n",
        "test_scores = []\n",
        "\n",
        "\n",
        "for c in c_values:\n",
        "  log_reg_2 = LogisticRegression(C=c, max_iter=1000, solver='liblinear', penalty='l1')\n",
        "  log_reg_2_pipe = make_pipeline(preprocessor, log_reg_2)\n",
        "  log_reg_2_pipe.fit(X_train, y_train)\n",
        " \n",
        "  train_scores.append(log_reg_2_pipe.score(X_train, y_train))\n",
        "  test_scores.append(log_reg_2_pipe.score(X_test, y_test))\n",
        " \n",
        "\n",
        "fig, ax = plt.subplots(1,1)\n",
        "ax.plot(c_values, train_scores, label='Training Accuracy')\n",
        "ax.plot(c_values, test_scores, label='Testing Accuracy')\n",
        "ax.set_xticks(c_values)\n",
        "ax.set_title('Change in accuracy over C values for l1 regularization')\n",
        "ax.legend()\n",
        "ax.set_xscale('log')\n",
        "plt.show()\n",
        "\n",
        "{c:score for c, score in zip(c_values, test_scores)}"
      ],
      "metadata": {
        "colab": {
          "base_uri": "https://localhost:8080/",
          "height": 428
        },
        "id": "kqY_Mlb9CzKx",
        "outputId": "9ee402a2-21ff-4545-ccc6-6a0ffa56d367"
      },
      "execution_count": 13,
      "outputs": [
        {
          "output_type": "display_data",
          "data": {
            "text/plain": [
              "<Figure size 432x288 with 1 Axes>"
            ],
            "image/png": "[encoded data removed]"
          },
          "metadata": {
            "needs_background": "light"
          }
        },
        {
          "output_type": "execute_result",
          "data": {
            "text/plain": [
              "{0.0001: 0.391304347826087,\n",
              " 0.001: 0.391304347826087,\n",
              " 0.01: 0.6869565217391305,\n",
              " 0.1: 0.8652173913043478,\n",
              " 1: 0.8869565217391304,\n",
              " 10: 0.8869565217391304,\n",
              " 100: 0.8869565217391304,\n",
              " 1000: 0.8869565217391304}"
            ]
          },
          "metadata": {},
          "execution_count": 13
        }
      ]
    },
    {
      "cell_type": "markdown",
      "source": [
        "#It looks like L1 regularization caps out at 88.695% with any C value at 1 or above. This is the same score as our default model, so let's check L2 regularization instead"
      ],
      "metadata": {
        "id": "POOu1impDmXd"
      }
    },
    {
      "cell_type": "code",
      "source": [
        "l2_train_scores = []\n",
        "l2_test_scores = []\n",
        "\n",
        "\n",
        "for c in c_values:\n",
        "  log_reg_3 = LogisticRegression(C=c, max_iter=1000, solver='liblinear', penalty='l2')\n",
        "  log_reg_3_pipe = make_pipeline(preprocessor, log_reg_3)\n",
        "  log_reg_3_pipe.fit(X_train, y_train)\n",
        " \n",
        "  l2_train_scores.append(log_reg_3_pipe.score(X_train, y_train))\n",
        "  l2_test_scores.append(log_reg_3_pipe.score(X_test, y_test))\n",
        " \n",
        "\n",
        "fig2, ax2 = plt.subplots(1,1)\n",
        "ax2.plot(c_values, l2_train_scores, label='Training Accuracy')\n",
        "ax2.plot(c_values, l2_test_scores, label='Testing Accuracy')\n",
        "ax2.set_xticks(c_values)\n",
        "ax2.set_title('Change in accuracy over C values for l2 regularization')\n",
        "ax2.legend()\n",
        "ax2.set_xscale('log')\n",
        "plt.show()\n",
        "\n",
        "{c:score for c, score in zip(c_values, l2_test_scores)}"
      ],
      "metadata": {
        "colab": {
          "base_uri": "https://localhost:8080/",
          "height": 428
        },
        "id": "fr-C0f5eDZA8",
        "outputId": "405a54da-b714-4533-fb51-3f226e605bb6"
      },
      "execution_count": 14,
      "outputs": [
        {
          "output_type": "display_data",
          "data": {
            "text/plain": [
              "<Figure size 432x288 with 1 Axes>"
            ],
            "image/png": "[encoded data removed]"
          },
          "metadata": {
            "needs_background": "light"
          }
        },
        {
          "output_type": "execute_result",
          "data": {
            "text/plain": [
              "{0.0001: 0.8391304347826087,\n",
              " 0.001: 0.8347826086956521,\n",
              " 0.01: 0.8608695652173913,\n",
              " 0.1: 0.8826086956521739,\n",
              " 1: 0.8826086956521739,\n",
              " 10: 0.8869565217391304,\n",
              " 100: 0.8869565217391304,\n",
              " 1000: 0.8869565217391304}"
            ]
          },
          "metadata": {},
          "execution_count": 14
        }
      ]
    },
    {
      "cell_type": "markdown",
      "source": [
        "#Well you can't win every time! Once again, no value of C for L2 can improve upon our base model accuracy of 88.695. For now we will just move forward with our base model. Let's run all metrics on it this time through so that we can see precision, recall, etc."
      ],
      "metadata": {
        "id": "AxQWrHEcE6FX"
      }
    },
    {
      "cell_type": "code",
      "source": [
        "log_final = LogisticRegression()\n",
        "\n",
        "log_pipe_final = make_pipeline(preprocessor, log_final)\n",
        "\n",
        "log_pipe_final.fit(X_train, y_train)\n",
        "\n",
        "log_preds = log_pipe_final.predict(X_test)\n",
        "\n",
        "labels=['No Heart Disease','Heart Disease']\n",
        "ConfusionMatrixDisplay.from_predictions(y_test, log_preds, display_labels=labels, cmap='Blues')\n",
        "plt.grid(None)\n",
        "\n",
        "\n",
        "knn_report = classification_report(y_test, log_preds)\n",
        "print(knn_report)\n",
        "\n",
        "print(log_pipe_final.score(X_train, y_train))\n",
        "print(log_pipe_final.score(X_test, y_test))"
      ],
      "metadata": {
        "colab": {
          "base_uri": "https://localhost:8080/",
          "height": 475
        },
        "id": "dBaAl1ItLHwX",
        "outputId": "f780d3ff-0b36-485a-c781-df675147c7a9"
      },
      "execution_count": 15,
      "outputs": [
        {
          "output_type": "stream",
          "name": "stdout",
          "text": [
            "              precision    recall  f1-score   support\n",
            "\n",
            "           0       0.83      0.90      0.86        90\n",
            "           1       0.93      0.88      0.90       140\n",
            "\n",
            "    accuracy                           0.89       230\n",
            "   macro avg       0.88      0.89      0.88       230\n",
            "weighted avg       0.89      0.89      0.89       230\n",
            "\n",
            "0.8617176128093159\n",
            "0.8869565217391304\n"
          ]
        },
        {
          "output_type": "display_data",
          "data": {
            "text/plain": [
              "<Figure size 432x288 with 2 Axes>"
            ],
            "image/png": "[encoded data removed]"
          },
          "metadata": {
            "needs_background": "light"
          }
        }
      ]
    },
    {
      "cell_type": "markdown",
      "source": [
        "#Let's move on to a different model now, to see if we can find improvements elsewhere! The next model we will run will be a KNN model. We will start again with default parameters, and we can use the same preprocessor we've already created within our pipeline."
      ],
      "metadata": {
        "id": "6UeI9ITWFD1g"
      }
    },
    {
      "cell_type": "code",
      "source": [
        "knn_pipe = make_pipeline(preprocessor, knn)\n",
        "\n",
        "knn_pipe.fit(X_train, y_train)\n",
        "\n",
        "#Let's check KNN default scores\n",
        "print(knn_pipe.score(X_train, y_train))\n",
        "print(knn_pipe.score(X_test, y_test))"
      ],
      "metadata": {
        "colab": {
          "base_uri": "https://localhost:8080/"
        },
        "id": "PcjczYqUETrI",
        "outputId": "87d7a027-22a4-4ee0-fd2a-f07fb206ca79"
      },
      "execution_count": 16,
      "outputs": [
        {
          "output_type": "stream",
          "name": "stdout",
          "text": [
            "0.87627365356623\n",
            "0.8739130434782608\n"
          ]
        }
      ]
    },
    {
      "cell_type": "markdown",
      "source": [
        "#Our KNN model is starting off a touch below our logistic regression model, but let's use GridSearchCV to see if we can tune some hyper-parameters to improve our model. We can see which hyper-parameters are available for tuning by running a 'get_params' on our pipeline."
      ],
      "metadata": {
        "id": "Cl4AtN32FrLF"
      }
    },
    {
      "cell_type": "code",
      "source": [
        "knn_pipe.get_params()\n",
        "\n",
        "#From this, let's target the following: n_neighbors, p, weight, and leaf_size"
      ],
      "metadata": {
        "colab": {
          "base_uri": "https://localhost:8080/"
        },
        "id": "eV6Hb5syFdsX",
        "outputId": "da19cf89-cd1e-4ec5-8aa0-0ae7ed9bade0"
      },
      "execution_count": 17,
      "outputs": [
        {
          "output_type": "execute_result",
          "data": {
            "text/plain": [
              "{'memory': None,\n",
              " 'steps': [('columntransformer', ColumnTransformer(transformers=[('pipeline-1',\n",
              "                                    Pipeline(steps=[('standardscaler',\n",
              "                                                     StandardScaler())]),\n",
              "                                    <sklearn.compose._column_transformer.make_column_selector object at 0x7f21ea0fa210>),\n",
              "                                   ('pipeline-2',\n",
              "                                    Pipeline(steps=[('onehotencoder',\n",
              "                                                     OneHotEncoder(handle_unknown='ignore',\n",
              "                                                                   sparse=False))]),\n",
              "                                    <sklearn.compose._column_transformer.make_column_selector object at 0x7f21ea0fa9d0>)])),\n",
              "  ('kneighborsclassifier', KNeighborsClassifier())],\n",
              " 'verbose': False,\n",
              " 'columntransformer': ColumnTransformer(transformers=[('pipeline-1',\n",
              "                                  Pipeline(steps=[('standardscaler',\n",
              "                                                   StandardScaler())]),\n",
              "                                  <sklearn.compose._column_transformer.make_column_selector object at 0x7f21ea0fa210>),\n",
              "                                 ('pipeline-2',\n",
              "                                  Pipeline(steps=[('onehotencoder',\n",
              "                                                   OneHotEncoder(handle_unknown='ignore',\n",
              "                                                                 sparse=False))]),\n",
              "                                  <sklearn.compose._column_transformer.make_column_selector object at 0x7f21ea0fa9d0>)]),\n",
              " 'kneighborsclassifier': KNeighborsClassifier(),\n",
              " 'columntransformer__n_jobs': None,\n",
              " 'columntransformer__remainder': 'drop',\n",
              " 'columntransformer__sparse_threshold': 0.3,\n",
              " 'columntransformer__transformer_weights': None,\n",
              " 'columntransformer__transformers': [('pipeline-1',\n",
              "   Pipeline(steps=[('standardscaler', StandardScaler())]),\n",
              "   <sklearn.compose._column_transformer.make_column_selector at 0x7f21ea0fa210>),\n",
              "  ('pipeline-2', Pipeline(steps=[('onehotencoder',\n",
              "                    OneHotEncoder(handle_unknown='ignore', sparse=False))]), <sklearn.compose._column_transformer.make_column_selector at 0x7f21ea0fa9d0>)],\n",
              " 'columntransformer__verbose': False,\n",
              " 'columntransformer__verbose_feature_names_out': True,\n",
              " 'columntransformer__pipeline-1': Pipeline(steps=[('standardscaler', StandardScaler())]),\n",
              " 'columntransformer__pipeline-2': Pipeline(steps=[('onehotencoder',\n",
              "                  OneHotEncoder(handle_unknown='ignore', sparse=False))]),\n",
              " 'columntransformer__pipeline-1__memory': None,\n",
              " 'columntransformer__pipeline-1__steps': [('standardscaler',\n",
              "   StandardScaler())],\n",
              " 'columntransformer__pipeline-1__verbose': False,\n",
              " 'columntransformer__pipeline-1__standardscaler': StandardScaler(),\n",
              " 'columntransformer__pipeline-1__standardscaler__copy': True,\n",
              " 'columntransformer__pipeline-1__standardscaler__with_mean': True,\n",
              " 'columntransformer__pipeline-1__standardscaler__with_std': True,\n",
              " 'columntransformer__pipeline-2__memory': None,\n",
              " 'columntransformer__pipeline-2__steps': [('onehotencoder',\n",
              "   OneHotEncoder(handle_unknown='ignore', sparse=False))],\n",
              " 'columntransformer__pipeline-2__verbose': False,\n",
              " 'columntransformer__pipeline-2__onehotencoder': OneHotEncoder(handle_unknown='ignore', sparse=False),\n",
              " 'columntransformer__pipeline-2__onehotencoder__categories': 'auto',\n",
              " 'columntransformer__pipeline-2__onehotencoder__drop': None,\n",
              " 'columntransformer__pipeline-2__onehotencoder__dtype': numpy.float64,\n",
              " 'columntransformer__pipeline-2__onehotencoder__handle_unknown': 'ignore',\n",
              " 'columntransformer__pipeline-2__onehotencoder__sparse': False,\n",
              " 'kneighborsclassifier__algorithm': 'auto',\n",
              " 'kneighborsclassifier__leaf_size': 30,\n",
              " 'kneighborsclassifier__metric': 'minkowski',\n",
              " 'kneighborsclassifier__metric_params': None,\n",
              " 'kneighborsclassifier__n_jobs': None,\n",
              " 'kneighborsclassifier__n_neighbors': 5,\n",
              " 'kneighborsclassifier__p': 2,\n",
              " 'kneighborsclassifier__weights': 'uniform'}"
            ]
          },
          "metadata": {},
          "execution_count": 17
        }
      ]
    },
    {
      "cell_type": "code",
      "source": [
        "knn_param_grid = {'kneighborsclassifier__n_neighbors': range(1,10),\n",
        "                  'kneighborsclassifier__p': range(1,5),\n",
        "                  'kneighborsclassifier__weights': ['distance','uniform'],\n",
        "                  'kneighborsclassifier__leaf_size' : [10,20,30,40,50]}\n",
        "\n",
        "\n",
        "knn_pipe_gs = GridSearchCV(knn_pipe, knn_param_grid)\n",
        "\n",
        "knn_pipe_gs.fit(X_train, y_train)\n",
        "\n",
        "knn_pipe_gs.best_params_"
      ],
      "metadata": {
        "colab": {
          "base_uri": "https://localhost:8080/"
        },
        "id": "jK-snF1aF8-6",
        "outputId": "43f40272-2f81-41b6-acf4-259cf3362388"
      },
      "execution_count": 18,
      "outputs": [
        {
          "output_type": "execute_result",
          "data": {
            "text/plain": [
              "{'kneighborsclassifier__leaf_size': 10,\n",
              " 'kneighborsclassifier__n_neighbors': 9,\n",
              " 'kneighborsclassifier__p': 1,\n",
              " 'kneighborsclassifier__weights': 'distance'}"
            ]
          },
          "metadata": {},
          "execution_count": 18
        }
      ]
    },
    {
      "cell_type": "markdown",
      "source": [
        "#The ideal leaf_size was at the bottom of our tested range, let's tweak our range lower for that parameter and test one more time"
      ],
      "metadata": {
        "id": "gisI3qFzIfCc"
      }
    },
    {
      "cell_type": "code",
      "source": [
        "knn_param_grid = {'kneighborsclassifier__n_neighbors': range(1,10),\n",
        "                  'kneighborsclassifier__p': range(1,5),\n",
        "                  'kneighborsclassifier__weights': ['distance','uniform'],\n",
        "                  'kneighborsclassifier__leaf_size' : [2,4,6,8,10]}\n",
        "\n",
        "\n",
        "knn_pipe_gs = GridSearchCV(knn_pipe, knn_param_grid)\n",
        "\n",
        "knn_pipe_gs.fit(X_train, y_train)\n",
        "\n",
        "knn_pipe_gs.best_params_"
      ],
      "metadata": {
        "colab": {
          "base_uri": "https://localhost:8080/"
        },
        "id": "t1a0Za4nHFoz",
        "outputId": "9c1df7b7-e36b-46ea-e095-4e90bb542879"
      },
      "execution_count": 19,
      "outputs": [
        {
          "output_type": "execute_result",
          "data": {
            "text/plain": [
              "{'kneighborsclassifier__leaf_size': 2,\n",
              " 'kneighborsclassifier__n_neighbors': 9,\n",
              " 'kneighborsclassifier__p': 1,\n",
              " 'kneighborsclassifier__weights': 'distance'}"
            ]
          },
          "metadata": {},
          "execution_count": 19
        }
      ]
    },
    {
      "cell_type": "markdown",
      "source": [
        "#With our best hyper-parameters now identified, let's create a final KNN model, and run full metrics on it with a classification report and confusion matrix"
      ],
      "metadata": {
        "id": "ZZ6Yqqj2Jhwi"
      }
    },
    {
      "cell_type": "code",
      "source": [
        "knn_final = KNeighborsClassifier(n_neighbors=9, p=1, weights='distance', leaf_size = 2)\n",
        "\n",
        "knn_pipe_final = make_pipeline(preprocessor, knn_final)\n",
        "\n",
        "knn_pipe_final.fit(X_train, y_train)\n",
        "\n",
        "knn_preds = knn_pipe_final.predict(X_test)\n",
        "\n",
        "labels=['No Heart Disease','Heart Disease']\n",
        "ConfusionMatrixDisplay.from_predictions(y_test, knn_preds, display_labels=labels, cmap='Blues')\n",
        "plt.grid(None)\n",
        "\n",
        "\n",
        "knn_report = classification_report(y_test, knn_preds)\n",
        "print(knn_report)\n",
        "\n",
        "print(knn_pipe_final.score(X_train, y_train))\n",
        "print(knn_pipe_final.score(X_test, y_test))"
      ],
      "metadata": {
        "colab": {
          "base_uri": "https://localhost:8080/",
          "height": 475
        },
        "id": "B_VtDlGXIx6j",
        "outputId": "3e8cc408-0e4e-430b-a940-c0748769ec4e"
      },
      "execution_count": 20,
      "outputs": [
        {
          "output_type": "stream",
          "name": "stdout",
          "text": [
            "              precision    recall  f1-score   support\n",
            "\n",
            "           0       0.85      0.89      0.87        90\n",
            "           1       0.93      0.90      0.91       140\n",
            "\n",
            "    accuracy                           0.90       230\n",
            "   macro avg       0.89      0.89      0.89       230\n",
            "weighted avg       0.90      0.90      0.90       230\n",
            "\n",
            "1.0\n",
            "0.8956521739130435\n"
          ]
        },
        {
          "output_type": "display_data",
          "data": {
            "text/plain": [
              "<Figure size 432x288 with 2 Axes>"
            ],
            "image/png": "[encoded data removed]"
          },
          "metadata": {
            "needs_background": "light"
          }
        }
      ]
    },
    {
      "cell_type": "markdown",
      "source": [
        "#Overall accuaracy of 89.565%. Not a huge improvement, but still an improvement! \n",
        "\n",
        "###It should also be noted, that likely our more important metric, since we're talking about predicting heart disease, is to limit the number of false negatives that we have. As these patients would then not receive treatment. We can see from our KNN model that we have 14 false negatives, compared to the 17 false negatives we had in our logistic regression model. At least we know we we are moving in the right direction!"
      ],
      "metadata": {
        "id": "J66Do54FckUJ"
      }
    },
    {
      "cell_type": "markdown",
      "source": [
        "#For our last model, let's try a random forest model to see if we can meet the challenge of getting over 90%!"
      ],
      "metadata": {
        "id": "s5u28flZdLg8"
      }
    },
    {
      "cell_type": "code",
      "source": [
        "rf_pipe = make_pipeline(preprocessor, rf)\n",
        "\n",
        "rf_pipe.fit(X_train, y_train)\n",
        "\n",
        "#Let's check initial rf scores\n",
        "print(rf_pipe.score(X_train, y_train))\n",
        "print(rf_pipe.score(X_test, y_test))"
      ],
      "metadata": {
        "colab": {
          "base_uri": "https://localhost:8080/"
        },
        "id": "GT8Z-FfeJ6PF",
        "outputId": "a8737494-7fb4-4b88-8f95-020782c0443f"
      },
      "execution_count": 21,
      "outputs": [
        {
          "output_type": "stream",
          "name": "stdout",
          "text": [
            "1.0\n",
            "0.8913043478260869\n"
          ]
        }
      ]
    },
    {
      "cell_type": "markdown",
      "source": [
        "##A promising start! Over 89% with just the base model! Let's once again run GridSearch to see if we can hyper-tune our model"
      ],
      "metadata": {
        "id": "_pjc1Z-9eqj6"
      }
    },
    {
      "cell_type": "code",
      "source": [
        "#Let's check our parameters that we can tune\n",
        "rf_pipe.get_params()\n",
        "\n",
        "#Based on this, let's set up GridSearchCV to check for best options on 'max_depth', 'min_samples_leaf', 'min_samples_split', and 'n_estimators'"
      ],
      "metadata": {
        "colab": {
          "base_uri": "https://localhost:8080/"
        },
        "id": "WXp5jFxudhUP",
        "outputId": "c31a89dc-0524-4254-9c96-f93d72a483a0"
      },
      "execution_count": 50,
      "outputs": [
        {
          "output_type": "execute_result",
          "data": {
            "text/plain": [
              "{'memory': None,\n",
              " 'steps': [('columntransformer', ColumnTransformer(transformers=[('pipeline-1',\n",
              "                                    Pipeline(steps=[('standardscaler',\n",
              "                                                     StandardScaler())]),\n",
              "                                    <sklearn.compose._column_transformer.make_column_selector object at 0x7f21ea0fa210>),\n",
              "                                   ('pipeline-2',\n",
              "                                    Pipeline(steps=[('onehotencoder',\n",
              "                                                     OneHotEncoder(handle_unknown='ignore',\n",
              "                                                                   sparse=False))]),\n",
              "                                    <sklearn.compose._column_transformer.make_column_selector object at 0x7f21ea0fa9d0>)])),\n",
              "  ('randomforestclassifier', RandomForestClassifier(random_state=42))],\n",
              " 'verbose': False,\n",
              " 'columntransformer': ColumnTransformer(transformers=[('pipeline-1',\n",
              "                                  Pipeline(steps=[('standardscaler',\n",
              "                                                   StandardScaler())]),\n",
              "                                  <sklearn.compose._column_transformer.make_column_selector object at 0x7f21ea0fa210>),\n",
              "                                 ('pipeline-2',\n",
              "                                  Pipeline(steps=[('onehotencoder',\n",
              "                                                   OneHotEncoder(handle_unknown='ignore',\n",
              "                                                                 sparse=False))]),\n",
              "                                  <sklearn.compose._column_transformer.make_column_selector object at 0x7f21ea0fa9d0>)]),\n",
              " 'randomforestclassifier': RandomForestClassifier(random_state=42),\n",
              " 'columntransformer__n_jobs': None,\n",
              " 'columntransformer__remainder': 'drop',\n",
              " 'columntransformer__sparse_threshold': 0.3,\n",
              " 'columntransformer__transformer_weights': None,\n",
              " 'columntransformer__transformers': [('pipeline-1',\n",
              "   Pipeline(steps=[('standardscaler', StandardScaler())]),\n",
              "   <sklearn.compose._column_transformer.make_column_selector at 0x7f21ea0fa210>),\n",
              "  ('pipeline-2', Pipeline(steps=[('onehotencoder',\n",
              "                    OneHotEncoder(handle_unknown='ignore', sparse=False))]), <sklearn.compose._column_transformer.make_column_selector at 0x7f21ea0fa9d0>)],\n",
              " 'columntransformer__verbose': False,\n",
              " 'columntransformer__verbose_feature_names_out': True,\n",
              " 'columntransformer__pipeline-1': Pipeline(steps=[('standardscaler', StandardScaler())]),\n",
              " 'columntransformer__pipeline-2': Pipeline(steps=[('onehotencoder',\n",
              "                  OneHotEncoder(handle_unknown='ignore', sparse=False))]),\n",
              " 'columntransformer__pipeline-1__memory': None,\n",
              " 'columntransformer__pipeline-1__steps': [('standardscaler',\n",
              "   StandardScaler())],\n",
              " 'columntransformer__pipeline-1__verbose': False,\n",
              " 'columntransformer__pipeline-1__standardscaler': StandardScaler(),\n",
              " 'columntransformer__pipeline-1__standardscaler__copy': True,\n",
              " 'columntransformer__pipeline-1__standardscaler__with_mean': True,\n",
              " 'columntransformer__pipeline-1__standardscaler__with_std': True,\n",
              " 'columntransformer__pipeline-2__memory': None,\n",
              " 'columntransformer__pipeline-2__steps': [('onehotencoder',\n",
              "   OneHotEncoder(handle_unknown='ignore', sparse=False))],\n",
              " 'columntransformer__pipeline-2__verbose': False,\n",
              " 'columntransformer__pipeline-2__onehotencoder': OneHotEncoder(handle_unknown='ignore', sparse=False),\n",
              " 'columntransformer__pipeline-2__onehotencoder__categories': 'auto',\n",
              " 'columntransformer__pipeline-2__onehotencoder__drop': None,\n",
              " 'columntransformer__pipeline-2__onehotencoder__dtype': numpy.float64,\n",
              " 'columntransformer__pipeline-2__onehotencoder__handle_unknown': 'ignore',\n",
              " 'columntransformer__pipeline-2__onehotencoder__sparse': False,\n",
              " 'randomforestclassifier__bootstrap': True,\n",
              " 'randomforestclassifier__ccp_alpha': 0.0,\n",
              " 'randomforestclassifier__class_weight': None,\n",
              " 'randomforestclassifier__criterion': 'gini',\n",
              " 'randomforestclassifier__max_depth': None,\n",
              " 'randomforestclassifier__max_features': 'auto',\n",
              " 'randomforestclassifier__max_leaf_nodes': None,\n",
              " 'randomforestclassifier__max_samples': None,\n",
              " 'randomforestclassifier__min_impurity_decrease': 0.0,\n",
              " 'randomforestclassifier__min_samples_leaf': 1,\n",
              " 'randomforestclassifier__min_samples_split': 2,\n",
              " 'randomforestclassifier__min_weight_fraction_leaf': 0.0,\n",
              " 'randomforestclassifier__n_estimators': 100,\n",
              " 'randomforestclassifier__n_jobs': None,\n",
              " 'randomforestclassifier__oob_score': False,\n",
              " 'randomforestclassifier__random_state': 42,\n",
              " 'randomforestclassifier__verbose': 0,\n",
              " 'randomforestclassifier__warm_start': False}"
            ]
          },
          "metadata": {},
          "execution_count": 50
        }
      ]
    },
    {
      "cell_type": "code",
      "source": [
        "#Let's make sure we at least start with the value for depth as what our default model found:\n",
        "\n",
        "est_depths = [estimator.get_depth() for estimator in rf.estimators_]\n",
        "max(est_depths)"
      ],
      "metadata": {
        "colab": {
          "base_uri": "https://localhost:8080/"
        },
        "id": "WOKw6ZD1vprb",
        "outputId": "a7fb409e-88ef-431b-e5db-233d0925a980"
      },
      "execution_count": 51,
      "outputs": [
        {
          "output_type": "execute_result",
          "data": {
            "text/plain": [
              "21"
            ]
          },
          "metadata": {},
          "execution_count": 51
        }
      ]
    },
    {
      "cell_type": "code",
      "source": [
        "rf_param_grid = {'randomforestclassifier__max_depth': [15,21,25], \n",
        "              'randomforestclassifier__min_samples_leaf': [1,5,10], \n",
        "              'randomforestclassifier__min_samples_split': [2,10,20],\n",
        "              'randomforestclassifier__n_estimators': [10,25,100,200]}\n",
        "\n",
        "\n",
        "rf_grid_search = GridSearchCV(rf_pipe, rf_param_grid)\n",
        "\n",
        "rf_grid_search.fit(X_train, y_train)   \n",
        "\n",
        "rf_grid_search.best_params_"
      ],
      "metadata": {
        "colab": {
          "base_uri": "https://localhost:8080/"
        },
        "id": "nMEUxYarfAei",
        "outputId": "29a723c6-2be8-4b91-af46-c7347920c7cb"
      },
      "execution_count": 37,
      "outputs": [
        {
          "output_type": "execute_result",
          "data": {
            "text/plain": [
              "{'randomforestclassifier__max_depth': 21,\n",
              " 'randomforestclassifier__min_samples_leaf': 1,\n",
              " 'randomforestclassifier__min_samples_split': 10,\n",
              " 'randomforestclassifier__n_estimators': 25}"
            ]
          },
          "metadata": {},
          "execution_count": 37
        }
      ]
    },
    {
      "cell_type": "markdown",
      "source": [
        "##Alright, we're zeroing in on the best parameters. Now that we have a better idea of the general ranges, let's try one more time with ranges closer to our ideals. "
      ],
      "metadata": {
        "id": "tSAQ7u8ffidH"
      }
    },
    {
      "cell_type": "code",
      "source": [
        "final_param_grid = {'randomforestclassifier__max_depth': [17,18,19,20,21,22], \n",
        "              'randomforestclassifier__min_samples_leaf': [1,2], \n",
        "              'randomforestclassifier__min_samples_split': [8,10,12],\n",
        "              'randomforestclassifier__n_estimators': [15,25,35]}\n",
        "\n",
        "\n",
        "rf_grid_search_final = GridSearchCV(rf_pipe, final_param_grid)\n",
        "\n",
        "rf_grid_search_final.fit(X_train, y_train)   \n",
        "\n",
        "rf_grid_search_final.best_params_"
      ],
      "metadata": {
        "colab": {
          "base_uri": "https://localhost:8080/"
        },
        "id": "DJPjAtj4fQ2t",
        "outputId": "8a850e93-6810-47c4-e8cb-d5e33cbb9277"
      },
      "execution_count": 38,
      "outputs": [
        {
          "output_type": "execute_result",
          "data": {
            "text/plain": [
              "{'randomforestclassifier__max_depth': 17,\n",
              " 'randomforestclassifier__min_samples_leaf': 1,\n",
              " 'randomforestclassifier__min_samples_split': 10,\n",
              " 'randomforestclassifier__n_estimators': 25}"
            ]
          },
          "metadata": {},
          "execution_count": 38
        }
      ]
    },
    {
      "cell_type": "markdown",
      "source": [
        "##Looks like we've got our hyperparameters! Let's create a final random forest model with these and once again run our metrics."
      ],
      "metadata": {
        "id": "3kRTTP_NgDyI"
      }
    },
    {
      "cell_type": "code",
      "source": [
        "rf_final = RandomForestClassifier(max_depth = 17, min_samples_leaf = 1, min_samples_split = 10, n_estimators = 25, random_state=42)\n",
        "\n",
        "rf_pipe_final = make_pipeline(preprocessor, rf_final)\n",
        "\n",
        "rf_pipe_final.fit(X_train, y_train)\n",
        "\n",
        "rf_preds = rf_pipe_final.predict(X_test)\n",
        "\n",
        "labels=['No Heart Disease','Heart Disease']\n",
        "ConfusionMatrixDisplay.from_predictions(y_test, rf_preds, display_labels=labels, cmap='Blues')\n",
        "plt.grid(None)\n",
        "\n",
        "\n",
        "rf_report = classification_report(y_test, rf_preds)\n",
        "print(rf_report)\n",
        "\n",
        "print(rf_pipe_final.score(X_train, y_train))\n",
        "print(rf_pipe_final.score(X_test, y_test))"
      ],
      "metadata": {
        "colab": {
          "base_uri": "https://localhost:8080/",
          "height": 475
        },
        "id": "-it6qVHUf4_E",
        "outputId": "1ab4409e-9dfd-45da-f49a-aab09b94a40c"
      },
      "execution_count": 39,
      "outputs": [
        {
          "output_type": "stream",
          "name": "stdout",
          "text": [
            "              precision    recall  f1-score   support\n",
            "\n",
            "           0       0.86      0.86      0.86        90\n",
            "           1       0.91      0.91      0.91       140\n",
            "\n",
            "    accuracy                           0.89       230\n",
            "   macro avg       0.88      0.88      0.88       230\n",
            "weighted avg       0.89      0.89      0.89       230\n",
            "\n",
            "0.9330422125181951\n",
            "0.8869565217391304\n"
          ]
        },
        {
          "output_type": "display_data",
          "data": {
            "text/plain": [
              "<Figure size 432x288 with 2 Axes>"
            ],
            "image/png": "[encoded data removed]"
          },
          "metadata": {
            "needs_background": "light"
          }
        }
      ]
    },
    {
      "cell_type": "markdown",
      "source": [
        "##Despite our best efforts, we weren't able to get over 90%. We did drop to 13 false negatives, but with the side-effect of 3 additional false positives. Not sure that's the best trade-off. Looking at our three models, our best overall appears to be the KNN Model. Let's move forward with this model as our official selection, but there's still a little more we can do!"
      ],
      "metadata": {
        "id": "Gv5S25S-luTd"
      }
    },
    {
      "cell_type": "markdown",
      "source": [
        "#Let's check to see if PCA can help bump our results up a little bit"
      ],
      "metadata": {
        "id": "sXGrYQnrmAX6"
      }
    },
    {
      "cell_type": "code",
      "source": [
        "#First instantiate a PCA. Since we aren't looking to lower the number of features in our data, we will just keep everything to default value\n",
        "pca = PCA()\n",
        "\n",
        "#Now we can create a pipeline with our original preprocessor, along with PCA\n",
        "PCA_preprocessor = make_pipeline(preprocessor, pca)\n",
        "\n",
        "#Finally we can make our modeling pipeline with KNN, making sure to include our previously identified hyper-parameters\n",
        "knn_PCA = KNeighborsClassifier(n_neighbors=9, p=1, weights='distance', leaf_size = 2)\n",
        "knn_pca_pipe = make_pipeline(PCA_preprocessor, knn_PCA)\n",
        "knn_pca_pipe.fit(X_train, y_train)\n",
        "\n",
        "knn_pca_preds = knn_pca_pipe.predict(X_test)\n",
        "\n",
        "labels=['No Heart Disease','Heart Disease']\n",
        "ConfusionMatrixDisplay.from_predictions(y_test, knn_pca_preds, display_labels=labels, cmap='Blues')\n",
        "plt.grid(None)\n",
        "\n",
        "\n",
        "knn_pca_report = classification_report(y_test, knn_pca_preds)\n",
        "print(knn_pca_report)\n",
        "\n",
        "print(knn_pca_pipe.score(X_train, y_train))\n",
        "print(knn_pca_pipe.score(X_test, y_test))"
      ],
      "metadata": {
        "colab": {
          "base_uri": "https://localhost:8080/",
          "height": 475
        },
        "id": "Hkdt3HO4gd9N",
        "outputId": "68080b3e-8592-47ea-8548-76fa724d96b8"
      },
      "execution_count": 42,
      "outputs": [
        {
          "output_type": "stream",
          "name": "stdout",
          "text": [
            "              precision    recall  f1-score   support\n",
            "\n",
            "           0       0.85      0.89      0.87        90\n",
            "           1       0.93      0.90      0.91       140\n",
            "\n",
            "    accuracy                           0.90       230\n",
            "   macro avg       0.89      0.89      0.89       230\n",
            "weighted avg       0.90      0.90      0.90       230\n",
            "\n",
            "1.0\n",
            "0.8956521739130435\n"
          ]
        },
        {
          "output_type": "display_data",
          "data": {
            "text/plain": [
              "<Figure size 432x288 with 2 Axes>"
            ],
            "image/png": "[encoded data removed]"
          },
          "metadata": {
            "needs_background": "light"
          }
        }
      ]
    },
    {
      "cell_type": "markdown",
      "source": [
        "##Well it was worth a shot! But PCA did not influence our results at all.\n",
        "\n",
        "##Another idea to try is gradient boosting. Let's see if we can still possibly reach that magic 90% number!"
      ],
      "metadata": {
        "id": "tjMaKQ3woOyq"
      }
    },
    {
      "cell_type": "code",
      "source": [
        "gbc = GradientBoostingClassifier()\n",
        "gbc_pipe = make_pipeline(preprocessor, gbc)\n",
        "gbc_pipe.fit(X_train, y_train)\n",
        "\n",
        "print('GBC Training accuracy:', gbc_pipe.score(X_train, y_train))\n",
        "print('GBC Testing accuracy:', gbc_pipe.score(X_test, y_test))"
      ],
      "metadata": {
        "colab": {
          "base_uri": "https://localhost:8080/"
        },
        "id": "-CA861dwnu-_",
        "outputId": "2bed4713-569d-475a-9cdb-7bf4fe922a1a"
      },
      "execution_count": 44,
      "outputs": [
        {
          "output_type": "stream",
          "name": "stdout",
          "text": [
            "GBC Training accuracy: 0.9577874818049491\n",
            "GBC Testing accuracy: 0.8739130434782608\n"
          ]
        }
      ]
    },
    {
      "cell_type": "code",
      "source": [
        "lgbm = LGBMClassifier()\n",
        "lgbm_pipe = make_pipeline(preprocessor, lgbm)\n",
        "lgbm_pipe.fit(X_train, y_train)\n",
        "\n",
        "print('LGBM Training accuracy:', lgbm_pipe.score(X_train, y_train))\n",
        "print('LGBM Testing accuracy:', lgbm_pipe.score(X_test, y_test))"
      ],
      "metadata": {
        "colab": {
          "base_uri": "https://localhost:8080/"
        },
        "id": "WXTWg24cpuDH",
        "outputId": "bed172a4-757c-4f86-e34e-5c7ba79a556b"
      },
      "execution_count": 45,
      "outputs": [
        {
          "output_type": "stream",
          "name": "stdout",
          "text": [
            "LGBM Training accuracy: 1.0\n",
            "LGBM Testing accuracy: 0.8739130434782608\n"
          ]
        }
      ]
    },
    {
      "cell_type": "code",
      "source": [
        "xgb = XGBClassifier()\n",
        "xgb_pipe = make_pipeline(preprocessor, xgb)\n",
        "xgb_pipe.fit(X_train, y_train)\n",
        "\n",
        "print('XGB Training accuracy:', xgb_pipe.score(X_train, y_train))\n",
        "print('XGB Testing accuracy:', xgb_pipe.score(X_test, y_test))"
      ],
      "metadata": {
        "colab": {
          "base_uri": "https://localhost:8080/"
        },
        "id": "z0K2CuSdpuLT",
        "outputId": "06559130-0fa4-4128-ed37-1c12cddc38d7"
      },
      "execution_count": 46,
      "outputs": [
        {
          "output_type": "stream",
          "name": "stdout",
          "text": [
            "XGB Training accuracy: 0.9417758369723436\n",
            "XGB Testing accuracy: 0.8782608695652174\n"
          ]
        }
      ]
    },
    {
      "cell_type": "markdown",
      "source": [
        "##It doesn't appear that gradient boosting is going to be the answer, none of the models performed better than our hyper-tuned KNN model. \n",
        "\n",
        "##Tried as we might, it looks like we are going to come up just short of our 90% goal. When the dust settles, it looks like our best option for moving forward is going to be our hyper-tuned KNN model. It runs at an accuracy of just under 90%, with limited false-negatives. Overall still a very solid model!"
      ],
      "metadata": {
        "id": "83NIw0n7rRJj"
      }
    }
  ]
}